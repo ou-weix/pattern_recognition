{
 "cells": [
  {
   "cell_type": "code",
   "execution_count": 2,
   "id": "c77d469b-a131-4a74-a694-3c30307ea4ac",
   "metadata": {
    "tags": []
   },
   "outputs": [
    {
     "name": "stdout",
     "output_type": "stream",
     "text": [
      "trainDistance:  <class 'numpy.ndarray'> (1995, 128)\n",
      "testDistance:  <class 'numpy.ndarray'> (1996, 128)\n",
      "DR_sex_map:  <class 'numpy.ndarray'> 1995\n",
      "DS_sex_map:  <class 'numpy.ndarray'> 1996\n",
      "DR_sex_map: [1 1 1 ... 0 0 0]\n",
      "Accuracy: 0.9323647294589178\n",
      "程序运行时间为: 1.8712356090545654 Seconds\n"
     ]
    }
   ],
   "source": [
    "import pandas as pd\n",
    "import numpy as np\n",
    "from matplotlib import pyplot as plt\n",
    "from sklearn.neural_network import MLPClassifier\n",
    "from sklearn.metrics import accuracy_score\n",
    "import time\n",
    "start=time.time()\n",
    "#####################1. load dataset##########################\n",
    "# 读入特征数据\n",
    "trainDistance = np.load(\"trainDistance.npy\")\n",
    "testDistance = np.load(\"testDistance.npy\")\n",
    "# 读入标签数据\n",
    "DR_sex_map = np.load(\"DR_sex_map.npy\")\n",
    "DS_sex_map = np.load(\"DS_sex_map.npy\")\n",
    "print(\"trainDistance: \", type(trainDistance),trainDistance.shape)#(1995, 128)\n",
    "print(\"testDistance: \", type(testDistance),testDistance.shape)   #(1996, 128)\n",
    "print(\"DR_sex_map: \", type(DR_sex_map),DR_sex_map.size)         #1995\n",
    "print(\"DS_sex_map: \", type(DS_sex_map),DS_sex_map.size)         #1996\n",
    "print(\"DR_sex_map:\",DR_sex_map)\n",
    "#####################2. train##############################\n",
    "# 7个隐含层，循环1000次\n",
    "mlp = MLPClassifier(hidden_layer_sizes=(7,), max_iter=1000, random_state=42)\n",
    "mlp.fit(trainDistance, DR_sex_map)\n",
    "y_pred = mlp.predict(testDistance)\n",
    "######################3. 计算准确率############################\n",
    "accuracy = accuracy_score(DS_sex_map, y_pred)\n",
    "print(\"Accuracy:\", accuracy)\n",
    "end=time.time()\n",
    "print('程序运行时间为: %s Seconds'%(end-start))"
   ]
  },
  {
   "cell_type": "code",
   "execution_count": null,
   "id": "0623d4fc-75be-4b02-bc4c-96ed4e0f17ce",
   "metadata": {
    "jupyter": {
     "source_hidden": true
    },
    "tags": []
   },
   "outputs": [],
   "source": [
    "imglist_train_glue = os.listdir(train_path_glue)\n",
    "DR_sex_map = np.load(\"DR_sex_map.npy\")\n",
    "DS_sex_map = np.load(\"DS_sex_map.npy\")\n",
    "X_train = np.empty((len(DR_sex_map) , 224, 224, 3))\n",
    "Y_train = np.empty((len(DR_sex_map), 2))\n"
   ]
  }
 ],
 "metadata": {
  "kernelspec": {
   "display_name": "Python 3",
   "language": "python",
   "name": "python3"
  },
  "language_info": {
   "codemirror_mode": {
    "name": "ipython",
    "version": 3
   },
   "file_extension": ".py",
   "mimetype": "text/x-python",
   "name": "python",
   "nbconvert_exporter": "python",
   "pygments_lexer": "ipython3",
   "version": "3.8.8"
  }
 },
 "nbformat": 4,
 "nbformat_minor": 5
}
